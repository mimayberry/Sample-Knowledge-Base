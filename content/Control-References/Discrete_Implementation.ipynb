{
 "cells": [
  {
   "cell_type": "markdown",
   "metadata": {},
   "source": [
    "# Continous Controller Design"
   ]
  },
  {
   "cell_type": "markdown",
   "metadata": {},
   "source": [
    "### PID with Low Pass Filter on Derivative Term"
   ]
  },
  {
   "cell_type": "markdown",
   "metadata": {},
   "source": [
    "A PID controller with a low pass filter on the derivative has the following form.\n",
    "\n",
    "\\begin{align}\n",
    "    G_c(s) &= k_p + k_i\\frac{1}{s} + k_d \\frac{s}{s/\\omega_p + 1} \\\\\n",
    "    &= \\frac{(k_p/\\omega_p + k_d)s^2 + (k_p + k_i/\\omega_p)s + k_i}{s(s/\\omega_p + 1)} \\\\\n",
    "    &=k_{dc} \\frac{(s/\\omega_{z1} + 1)(s/\\omega_{z2} + 1)}{s(s/\\omega_p + 1)}\n",
    "\\end{align}\n",
    "\n",
    "where,\n",
    "\n",
    "\\begin{align}\n",
    "    k_p &= k_{dc} \\bigg(\\frac{\\omega_{z1} + \\omega_{z2}}{\\omega_{z1}\\omega_{z2}} - \\frac{1}{\\omega_p}\\bigg) \\\\\n",
    "    k_i &= k_{dc} \\\\\n",
    "    k_d &= k_{dc} \\bigg(\\frac{1}{\\omega_{z1} \\omega_{z2}} - \\frac{\\omega_{z1} + \\omega_{z2}}{\\omega_{z1}\\omega_{z2} \\omega_p} + \\frac{1}{\\omega_p^2}\\bigg) \n",
    "\\end{align}\n",
    "\n",
    "We see that the controller can be written out as a DC gain with two zeros, a pole, and a pole at the origin which represents 4 design variables that we can manipulate. We will define the bandwidth of our position controller and current regulator to be $\\omega_c$ and $\\omega_{ci}$ respectively.\n",
    "\n",
    "We can systematically place these poles and zeros to achieve the phase margin and bandwidth that we desire. Note that this is two input variables but we have four parameters to determine so some engineering judgement must be taken into account. The arbitrary choices that we will be as follows:\n",
    "\n",
    "\\begin{align}\n",
    "    \\omega_{z1} &= \\frac{\\omega_c}{100} \\\\\n",
    "    \\omega_p &= 4\\omega_c\n",
    "\\end{align}\n",
    "\n",
    "$\\omega_{z1}$ is placed two decades below our controller bandwidth because the kernel of our loop gain starts out at -180 degrees and we need to gain phase. Zero's increase the phase of the system.\n",
    "\n",
    "$\\omega_p$ is placed 4 times higher than the bandwidth of our controller such that it can filter out noise but doesn't affect the overall system dynamics.\n",
    "\n",
    "The second zero location is chosen to give the desired phase margin as:\n",
    "\n",
    "\\begin{align}\n",
    "    \\omega_{z2} = \\frac{\\omega_c}{\\tan{\\big(\\phi_{\\textrm{PM}} + \\pi/2 + \\arctan{\\frac{\\omega_{c}}{\\omega_{ci}}} - \\arctan{\\frac{\\omega_{c}}{\\omega_{ci}}} + \\arctan{\\frac{\\omega_{z1}}{\\omega_{p}}} \\big)}}\n",
    "\\end{align}\n",
    "\n",
    "Finally, the DC gain is set such that the gain cross-over frequency occurs at the desired controller bandwidth:\n",
    "\n",
    "\\begin{align}\n",
    "    k_{dc} = \\frac{1}{\\bigg|G_c(j\\omega_c)\\big|_{k_{dc} = 1}\\bigg||I_{CL}(j\\omega_c)|G_p(j\\omega_c)|}\n",
    "\\end{align}\n"
   ]
  },
  {
   "cell_type": "markdown",
   "metadata": {},
   "source": [
    "# Continuous to Discrete Time Controller Implementation"
   ]
  },
  {
   "cell_type": "code",
   "execution_count": 1,
   "metadata": {},
   "outputs": [],
   "source": [
    "import sympy as sp\n",
    "import numpy as np\n",
    "import matplotlib.pyplot as plt"
   ]
  },
  {
   "cell_type": "code",
   "execution_count": 2,
   "metadata": {},
   "outputs": [],
   "source": [
    "s, z_inv, T, kp, ki, kd, wp, M, E, tau = sp.symbols('s z^-1 T k_p k_i k_d \\omega_p M(z) E(z) tau')"
   ]
  },
  {
   "cell_type": "markdown",
   "metadata": {},
   "source": [
    "We can use the tustin transformation (trapezoidal integration) to transform our continous time controller into an approximately equivalent discrete time controller:"
   ]
  },
  {
   "cell_type": "markdown",
   "metadata": {},
   "source": [
    "By definition:\n",
    "\n",
    "\\begin{align}\n",
    "z = e^{sT} = \\frac{e^{sT/2}}{e^{-sT/2}}\n",
    "\\end{align}\n",
    "\n",
    "Using the first order terms of a Taylor series expansion for the exponential we get:\n",
    "\n",
    "\\begin{align}\n",
    "z \\approx \\frac{1 + sT/2}{1 - sT/2}\n",
    "\\end{align}\n",
    "\n",
    "solving for s we get:\n",
    "\n",
    "\\begin{align}\n",
    "s \\approx \\frac{2}{T}\\frac{z-1}{z+1} = \\frac{2}{T}\\frac{1-z^{-1}}{1+z^{-1}}\n",
    "\\end{align}"
   ]
  },
  {
   "cell_type": "markdown",
   "metadata": {},
   "source": [
    "We will use this above expression to develop difference equations that we can implement in code for each term of our controller:"
   ]
  },
  {
   "cell_type": "code",
   "execution_count": 3,
   "metadata": {},
   "outputs": [
    {
     "data": {
      "text/latex": [
       "$\\displaystyle \\frac{2 \\left(1 - z^{-1}\\right)}{T \\left(z^{-1} + 1\\right)}$"
      ],
      "text/plain": [
       "2*(1 - z^-1)/(T*(z^-1 + 1))"
      ]
     },
     "execution_count": 3,
     "metadata": {},
     "output_type": "execute_result"
    }
   ],
   "source": [
    "s_expr = (2/T)*(1-z_inv)/(1 + z_inv)\n",
    "s_expr"
   ]
  },
  {
   "cell_type": "markdown",
   "metadata": {},
   "source": [
    "### Proportional Control:"
   ]
  },
  {
   "cell_type": "markdown",
   "metadata": {},
   "source": [
    "The proportional controller is simple. The manipulation is as follows:\n",
    "\n",
    "\\begin{align}\n",
    "m_{n,P} = k_p e_n\n",
    "\\end{align}"
   ]
  },
  {
   "cell_type": "markdown",
   "metadata": {},
   "source": [
    "### Integral Control"
   ]
  },
  {
   "cell_type": "markdown",
   "metadata": {},
   "source": [
    "Using the Tustin transform on the integral term:"
   ]
  },
  {
   "cell_type": "code",
   "execution_count": 4,
   "metadata": {},
   "outputs": [
    {
     "data": {
      "text/latex": [
       "$\\displaystyle \\frac{M(z)}{E(z)} = \\frac{T k_{i} \\left(z^{-1} + 1\\right)}{2 \\left(1 - z^{-1}\\right)}$"
      ],
      "text/plain": [
       "Eq(M(z)/E(z), T*k_i*(z^-1 + 1)/(2*(1 - z^-1)))"
      ]
     },
     "execution_count": 4,
     "metadata": {},
     "output_type": "execute_result"
    }
   ],
   "source": [
    "I = ki/s\n",
    "Ieq = sp.Eq(M/E, I.subs({s:s_expr}))\n",
    "Ieq"
   ]
  },
  {
   "cell_type": "markdown",
   "metadata": {},
   "source": [
    "We get the following difference equation:"
   ]
  },
  {
   "cell_type": "markdown",
   "metadata": {},
   "source": [
    "\\begin{align}\n",
    "m_{n,I} = m_{n-1,I} + k_i \\frac{T}{2} (e_n + e_{n-1})\n",
    "\\end{align}"
   ]
  },
  {
   "cell_type": "markdown",
   "metadata": {},
   "source": [
    "### Derivative Control with Low-Pass Filter"
   ]
  },
  {
   "cell_type": "code",
   "execution_count": 5,
   "metadata": {},
   "outputs": [
    {
     "data": {
      "text/latex": [
       "$\\displaystyle \\frac{k_{d} s}{1 + \\frac{s}{\\omega_p}}$"
      ],
      "text/plain": [
       "k_d*s/(1 + s/\\omega_p)"
      ]
     },
     "execution_count": 5,
     "metadata": {},
     "output_type": "execute_result"
    }
   ],
   "source": [
    "D = kd*(s/(s/wp + 1))\n",
    "D"
   ]
  },
  {
   "cell_type": "code",
   "execution_count": 6,
   "metadata": {},
   "outputs": [
    {
     "data": {
      "text/latex": [
       "$\\displaystyle \\frac{M(z)}{E(z)} = - \\frac{2 \\omega_p k_{d} \\left(z^{-1} - 1\\right)}{T \\omega_p + z^{-1} \\left(T \\omega_p - 2\\right) + 2}$"
      ],
      "text/plain": [
       "Eq(M(z)/E(z), -2*\\omega_p*k_d*(z^-1 - 1)/(T*\\omega_p + z^-1*(T*\\omega_p - 2) + 2))"
      ]
     },
     "execution_count": 6,
     "metadata": {},
     "output_type": "execute_result"
    }
   ],
   "source": [
    "Deq = sp.Eq(M/E, D.subs(s,s_expr))\n",
    "Deq.expand().simplify().factor(z_inv)"
   ]
  },
  {
   "cell_type": "markdown",
   "metadata": {},
   "source": [
    "We get the following difference equation:\n",
    "\n",
    "\\begin{align}\n",
    "m_n (T\\omega_p + 2) - m_{n-1} (2-T\\omega_p) = 2\\omega_p k_d (e_n - e_{n-1})\n",
    "\\end{align}\n",
    "\n",
    "\\begin{align}\n",
    "m_n = \\frac{2-T\\omega_p}{T\\omega_p + 2} m_{n-1} + \\frac{2\\omega_p k_d}{T\\omega_p + 2} (e_n - e_{n-1})\n",
    "\\end{align}\n",
    "\n",
    "which can be rewritten as:\n",
    "\n",
    "\\begin{align}\n",
    "m_{n,D} = k_{md} m_{n-1,D} + k_{ed} (e_n - e_{n-q})\n",
    "\\end{align}\n",
    "\n",
    "where:\n",
    "\n",
    "\\begin{align}\n",
    "k_{md} = \\frac{2-T\\omega_p}{T\\omega_p + 2}\n",
    "\\end{align}\n",
    "\n",
    "\\begin{align}\n",
    "k_{ed} = \\frac{2\\omega_p k_d}{T\\omega_p + 2}\n",
    "\\end{align}"
   ]
  },
  {
   "cell_type": "markdown",
   "metadata": {},
   "source": [
    "### Total Controller:"
   ]
  },
  {
   "cell_type": "markdown",
   "metadata": {},
   "source": [
    "The total controller manipulation will be the sum of each of the PID terms as:\n",
    "\n",
    "\\begin{align}\n",
    "m_n = m_{n,P} + m_{n,I} + m_{n,D}\n",
    "\\end{align}\n",
    "\n",
    "\\begin{align}\n",
    "m_{n,P} = k_p e_n\n",
    "\\end{align}\n",
    "\n",
    "\\begin{align}\n",
    "m_{n,I} = m_{n-1,I} + k_i \\frac{T}{2} (e_n + e_{n-1}) = m_{n-1,I} + k_{ei} (e_n + e_{n-1})\n",
    "\\end{align}\n",
    "\n",
    "\\begin{align}\n",
    "m_{n,D} = k_{md} m_{n-1,D} + k_{ed} (e_n - e_{n-1})\n",
    "\\end{align}"
   ]
  },
  {
   "cell_type": "markdown",
   "metadata": {},
   "source": [
    "At this point, we could write out one long expression for the controller output in terms of the previous the current error, previous error and previous manipulations. We will make the concious decision not to do this however as we would like to keep the integral term seperate in order to be able to apply an anti-windup scheme to it."
   ]
  },
  {
   "cell_type": "markdown",
   "metadata": {},
   "source": [
    "### Anti-Windup"
   ]
  },
  {
   "cell_type": "markdown",
   "metadata": {},
   "source": [
    "We will use clamping for an anti-windup scheme as it is easy to implement and does not have any parameters that require tuning. Clamping works by stopping (or clamping) the integration on the integral control as soon as the following two criteria are met:\n",
    "\n",
    "1) The controller output is saturating: `|m_n| > maximum allowable manipulation`\n",
    "\n",
    "2) The integral control is trying to make things worse: `sign(e_n) == sign(m_n)`\n",
    "\n",
    "If we define the following boolean variable:\n",
    "\n",
    "`clamp = saturating && integral_makes_worse`\n",
    "\n",
    "then we can modify our integral control expression to the following:\n",
    "\n",
    "\\begin{align}\n",
    "m_{n,I} = m_{n-1,I} + k_{ei} (e_n + e_{n-1})(1 - \\textrm{clamp})\n",
    "\\end{align}"
   ]
  },
  {
   "cell_type": "markdown",
   "metadata": {},
   "source": [
    "### Low Pass Filter on Input Commands"
   ]
  },
  {
   "cell_type": "markdown",
   "metadata": {},
   "source": [
    "To smooth the initial transients of the start up and create a trajectory that can actually be followed, we can pass our commands through a low pass filter. To do this, we can measure the initial position of the rotor and then command that position until a certain time at which we use a step command to the desired centered position. The step command will be smoothed into an exponential curve when passed through the filter:\n",
    "\n",
    "A simple low pass filter can be designed as a single pole (first order system):\n",
    "\n",
    "\\begin{align}\n",
    "G(s) = \\frac{1}{\\tau s + 1}\n",
    "\\end{align}\n",
    "\n",
    "The transfer function has a gain of unity and will respond to a step input as an exponential with time constant of $\\tau$"
   ]
  },
  {
   "cell_type": "code",
   "execution_count": 7,
   "metadata": {},
   "outputs": [
    {
     "data": {
      "text/latex": [
       "$\\displaystyle \\frac{1}{s \\tau + 1}$"
      ],
      "text/plain": [
       "1/(s*tau + 1)"
      ]
     },
     "execution_count": 7,
     "metadata": {},
     "output_type": "execute_result"
    }
   ],
   "source": [
    "lowpass = 1/(tau*s + 1)\n",
    "lowpass"
   ]
  },
  {
   "cell_type": "code",
   "execution_count": 8,
   "metadata": {},
   "outputs": [
    {
     "data": {
      "text/latex": [
       "$\\displaystyle \\frac{T \\left(z^{-1} + 1\\right)}{T + 2 \\tau + z^{-1} \\left(T - 2 \\tau\\right)}$"
      ],
      "text/plain": [
       "T*(z^-1 + 1)/(T + 2*tau + z^-1*(T - 2*tau))"
      ]
     },
     "execution_count": 8,
     "metadata": {},
     "output_type": "execute_result"
    }
   ],
   "source": [
    "lowpass.subs({s:s_expr}).expand().simplify().factor(z_inv)"
   ]
  },
  {
   "cell_type": "markdown",
   "metadata": {},
   "source": [
    "We get the following difference equation:\n",
    "\n",
    "\\begin{align}\n",
    "y_{n} (T + 2\\tau) - y_{n-1} (2\\tau - T) = T(x_{n} + x_{x-1})\n",
    "\\end{align}\n",
    "\n",
    "\\begin{align}\n",
    "y_{n} = \\frac{2\\tau - T}{T + 2\\tau} y_{n-1}  + \\frac{T}{T + 2\\tau}(x_{n} + x_{n-1}) = k_{yLP} y_{n-1} + k_{xLP} ( x_{n} + x_{n-1} )\n",
    "\\end{align}"
   ]
  },
  {
   "cell_type": "markdown",
   "metadata": {},
   "source": [
    "Let's take a look at the discrete step response to the filter we've created"
   ]
  },
  {
   "cell_type": "code",
   "execution_count": 9,
   "metadata": {},
   "outputs": [
    {
     "data": {
      "image/png": "[encoded data removed]",
      "text/plain": [
       "<Figure size 432x288 with 1 Axes>"
      ]
     },
     "metadata": {
      "needs_background": "light"
     },
     "output_type": "display_data"
    }
   ],
   "source": [
    "Ts = 1/10_000\n",
    "tau_n = 0.25\n",
    "\n",
    "T_settle = 8*tau_n\n",
    "T_on = 1\n",
    "\n",
    "total_samples = int((T_on + T_settle)/Ts)\n",
    "samples_off = int(T_on/Ts)\n",
    "\n",
    "t_arr = np.linspace(0, total_samples*Ts, total_samples)\n",
    "\n",
    "kmlp = (2*tau_n - Ts)/(Ts + 2*tau_n)\n",
    "kelp = Ts/(Ts + 2*tau_n)\n",
    "\n",
    "x = np.ones(total_samples)\n",
    "x[0:samples_off] = 0\n",
    "y = np.zeros_like(x)\n",
    "\n",
    "for i, val in enumerate(x):\n",
    "        \n",
    "        if i == 0:\n",
    "            pass\n",
    "        else:\n",
    "            y[i] = y[i-1]*kmlp + kelp*(x[i] + x[i-1])\n",
    "    \n",
    "fig = plt.figure()\n",
    "ax = fig.add_subplot(111)\n",
    "ax.plot(t_arr, x, lw = 2, label = 'Input Command')\n",
    "ax.plot(t_arr, y, label = 'Filtered Command', lw = 2)\n",
    "ax.set_xlabel('Time, $t$ [s]')\n",
    "ax.set_ylabel('$y_n$')\n",
    "ax.legend();"
   ]
  }
 ],
 "metadata": {
  "kernelspec": {
   "display_name": "Python 3",
   "language": "python",
   "name": "python3"
  },
  "language_info": {
   "codemirror_mode": {
    "name": "ipython",
    "version": 3
   },
   "file_extension": ".py",
   "mimetype": "text/x-python",
   "name": "python",
   "nbconvert_exporter": "python",
   "pygments_lexer": "ipython3",
   "version": "3.7.3"
  }
 },
 "nbformat": 4,
 "nbformat_minor": 4
}
